{
 "cells": [
  {
   "cell_type": "markdown",
   "metadata": {},
   "source": [
    "# Arrival Intervals of a Poisson Process with Python\n",
    "\n"
   ]
  },
  {
   "cell_type": "markdown",
   "metadata": {},
   "source": [
    "## Introduction  "
   ]
  },
  {
   "cell_type": "code",
   "execution_count": 98,
   "metadata": {},
   "outputs": [
    {
     "name": "stdout",
     "output_type": "stream",
     "text": [
      "0.21739130434782608\n",
      "0.0036231884057971015\n"
     ]
    }
   ],
   "source": [
    "N = 5.0\n",
    "T = 23.0\n",
    "\n",
    "print(N / T)\n",
    "lmbda = N / (T * 60 )\n",
    "print(lmbda)"
   ]
  },
  {
   "cell_type": "markdown",
   "metadata": {},
   "source": [
    "For the arrival rate, let's set $N = 5$ vehicles, and our time interval $T = 23.0$ hours. From that, we can calculate an arrival rate of $\\lambda = N~ /~ T = 0.21739130434782608$ per hour or $\\lambda = 6.038647342995169e-05$ vehicles / second.   \n",
    "\n",
    "Now for the times. Starting at $T_{0}$ we have no arrivals, but as time passes the probabilty of an event increases, until it reaches a near-certainty. If we randomly choose a value $U$ between 0 and 1, then we can calculate a random time interval as:\n",
    "\n",
    "$$\n",
    "I_{n} = \\frac{-\\log_{e}U}{\\lambda}\n",
    "$$\n",
    "\n",
    "Let's validate this by generating a large sample of intervals and taking their average."
   ]
  },
  {
   "cell_type": "code",
   "execution_count": 99,
   "metadata": {},
   "outputs": [
    {
     "name": "stdout",
     "output_type": "stream",
     "text": [
      "1000000\n",
      "[138.08472058 254.56618993  83.91555868 ...  15.0992735  165.09091456\n",
      "  58.16240386]\n",
      "276.3279068660227\n"
     ]
    },
    {
     "data": {
      "text/plain": [
       "array([138.08472058, 254.56618993,  83.91555868, 436.41299077,\n",
       "       165.69964811, 173.43144333,  88.78607469,  29.4637569 ,\n",
       "       269.70884685,  85.3550605 ])"
      ]
     },
     "execution_count": 99,
     "metadata": {},
     "output_type": "execute_result"
    }
   ],
   "source": [
    "import numpy as np\n",
    "\n",
    "count = int(1E6)\n",
    "print(count)\n",
    "\n",
    "x = np.arange(count)\n",
    "y = -np.log(1.0 - np.random.random_sample(len(x))) / lmbda\n",
    "print(y)\n",
    "print(np.average(y))\n",
    "y[:10]"
   ]
  },
  {
   "cell_type": "markdown",
   "metadata": {},
   "source": [
    "So with a rate of $\\lambda=.00000603864$ new events would arrive on average $I=16556.54$ seconds apart (or $1 / \\lambda$).  \n",
    "\n",
    "We can plot the distribution of these random times, where we should see an exponential distribution."
   ]
  },
  {
   "cell_type": "code",
   "execution_count": 100,
   "metadata": {},
   "outputs": [
    {
     "data": {
      "image/png": "[encoded data removed]",
      "text/plain": [
       "<Figure size 432x288 with 1 Axes>"
      ]
     },
     "metadata": {
      "needs_background": "light"
     },
     "output_type": "display_data"
    }
   ],
   "source": [
    "%matplotlib inline\n",
    "import matplotlib.pyplot as plt\n",
    "\n",
    "plt.hist(y, 20)\n",
    "plt.show()"
   ]
  },
  {
   "cell_type": "markdown",
   "metadata": {},
   "source": [
    "## Random Generation"
   ]
  },
  {
   "cell_type": "markdown",
   "metadata": {},
   "source": [
    "Python contains the `random.expovariate` method which should give us similar intervals.   \n",
    "\n",
    "Let's see by averaging a large sum of them."
   ]
  },
  {
   "cell_type": "code",
   "execution_count": 101,
   "metadata": {},
   "outputs": [
    {
     "data": {
      "text/plain": [
       "276.4522516153353"
      ]
     },
     "execution_count": 101,
     "metadata": {},
     "output_type": "execute_result"
    }
   ],
   "source": [
    "from random import expovariate\n",
    "\n",
    "sum([expovariate(lmbda) for i in range(count)])/count"
   ]
  },
  {
   "cell_type": "markdown",
   "metadata": {},
   "source": [
    "This method can be defined ([source file](https://github.com/python/cpython/blob/3.7/Lib/random.py)) as follows:  "
   ]
  },
  {
   "cell_type": "code",
   "execution_count": 102,
   "metadata": {},
   "outputs": [
    {
     "data": {
      "text/plain": [
       "276.28406148376365"
      ]
     },
     "execution_count": 102,
     "metadata": {},
     "output_type": "execute_result"
    }
   ],
   "source": [
    "from random import random\n",
    "import math\n",
    "\n",
    "def lib_expovariate(lambd):\n",
    "    \"\"\"Exponential distribuion.\n",
    "    \n",
    "        lambd is 1.0 divided by the desired mean.  It should be\n",
    "        nonzero. Returned values range from 0 to positive infinity \n",
    "        if lambd is positive, and from negative infinity to 0 if \n",
    "        lambd is negative.\n",
    "    \"\"\"\n",
    "    \n",
    "    # lambd: rate lambd = 1/mean\n",
    "    # ('lambda' is a Python reserved word)\n",
    "    \n",
    "    # we use 1-random() instead of random() to preclude the\n",
    "    # possibility of taking the log of zero.\n",
    "    \n",
    "    # Note: random.random() - returns the next random number in the range [0.0, 1.0)\n",
    "    return -math.log(1.0 - random()) / lambd\n",
    "\n",
    "sum([lib_expovariate(lmbda) for i in range(count)]) / count"
   ]
  },
  {
   "cell_type": "markdown",
   "metadata": {},
   "source": [
    "For completeness, we can also use NumPy's `random.poisson` method if we pass in $1/ \\lambda$."
   ]
  },
  {
   "cell_type": "code",
   "execution_count": 103,
   "metadata": {},
   "outputs": [
    {
     "name": "stdout",
     "output_type": "stream",
     "text": [
      "[ 660.32936945 1054.21850667 1078.92606538 1083.32362471 1116.55436627\n",
      " 1194.36665473 1437.64387648 1769.43453995 1874.66474281 1881.98463021]\n"
     ]
    },
    {
     "data": {
      "text/plain": [
       "276.1442632686023"
      ]
     },
     "execution_count": 103,
     "metadata": {},
     "output_type": "execute_result"
    }
   ],
   "source": [
    "y = np.random.exponential(1.0/lmbda, count)\n",
    "\n",
    "print(np.cumsum(y)[:10])\n",
    "np.average(y)"
   ]
  },
  {
   "cell_type": "markdown",
   "metadata": {},
   "source": [
    "Again, this is in agreement with our expected average interval. Note the numbers (and histogram plots) won't match exactly as we are dealing with random time intervals."
   ]
  },
  {
   "cell_type": "code",
   "execution_count": 104,
   "metadata": {},
   "outputs": [
    {
     "data": {
      "image/png": "[encoded data removed]",
      "text/plain": [
       "<Figure size 432x288 with 1 Axes>"
      ]
     },
     "metadata": {
      "needs_background": "light"
     },
     "output_type": "display_data"
    }
   ],
   "source": [
    "x = range(count)\n",
    "y = [expovariate(lmbda) for i in x]\n",
    "plt.hist(y, 50)\n",
    "plt.show()"
   ]
  },
  {
   "cell_type": "markdown",
   "metadata": {},
   "source": [
    "## Event Times"
   ]
  },
  {
   "cell_type": "markdown",
   "metadata": {},
   "source": [
    "For a timeline of events, we can simply generate a sequence of independent intervals, and then generate a running sum of them for absolute timestamps. "
   ]
  },
  {
   "cell_type": "code",
   "execution_count": 105,
   "metadata": {},
   "outputs": [
    {
     "data": {
      "text/plain": [
       "[0.0,\n",
       " 45.382349816246496,\n",
       " 128.50737428052577,\n",
       " 272.3421983522992,\n",
       " 862.0068573411846,\n",
       " 1645.6475032311519,\n",
       " 1679.4975869583552,\n",
       " 3236.1967571537534,\n",
       " 3301.9081150510424,\n",
       " 3513.61733229393]"
      ]
     },
     "execution_count": 105,
     "metadata": {},
     "output_type": "execute_result"
    }
   ],
   "source": [
    "intervals = [expovariate(lmbda) for i in range(1000)]\n",
    "timestamps = [0.0]\n",
    "timestamp = 0.0\n",
    "for t in intervals:\n",
    "    timestamp += t\n",
    "    timestamps.append(timestamp)\n",
    "\n",
    "timestamps[:10]"
   ]
  },
  {
   "cell_type": "code",
   "execution_count": 106,
   "metadata": {},
   "outputs": [
    {
     "data": {
      "text/plain": [
       "[45.382349816246496,\n",
       " 83.12502446427928,\n",
       " 143.83482407177343,\n",
       " 589.6646589888854,\n",
       " 783.6406458899672,\n",
       " 33.850083727203355,\n",
       " 1556.6991701953982,\n",
       " 65.71135789728896,\n",
       " 211.70921724288746,\n",
       " 25.7482888287077]"
      ]
     },
     "execution_count": 106,
     "metadata": {},
     "output_type": "execute_result"
    }
   ],
   "source": [
    "deltas = [y - x for x, y in zip(timestamps, timestamps[1:])]\n",
    "deltas[:10]"
   ]
  },
  {
   "cell_type": "code",
   "execution_count": 107,
   "metadata": {},
   "outputs": [
    {
     "data": {
      "text/plain": [
       "274.19850804025833"
      ]
     },
     "execution_count": 107,
     "metadata": {},
     "output_type": "execute_result"
    }
   ],
   "source": [
    "sum(deltas) / len(deltas)"
   ]
  },
  {
   "cell_type": "code",
   "execution_count": 108,
   "metadata": {},
   "outputs": [
    {
     "data": {
      "image/png": "[encoded data removed]",
      "text/plain": [
       "<Figure size 1152x288 with 1 Axes>"
      ]
     },
     "metadata": {
      "needs_background": "light"
     },
     "output_type": "display_data"
    }
   ],
   "source": [
    "deltas = [y - x for x, y in zip(timestamps, timestamps[1:])]\n",
    "plt.figure(figsize=(16, 4))\n",
    "plt.plot(deltas, 'r+')\n",
    "plt.show()"
   ]
  },
  {
   "cell_type": "markdown",
   "metadata": {},
   "source": [
    "Here we can readily see how the time between events is distributed, with most of the deltas below 1.0 with some fairly large outliers. This is to be expected as $T_{n}$ will always be greater than $T_{n-1}$ but perhaps not by much.\n",
    "\n",
    "Finally, let's generate $T=23.0$ hours worth of timestamps and see if we have close to our desired $N$ value. We will do this 100 times and then average the counts. We should have a value that is very close to $N=10,000$."
   ]
  },
  {
   "cell_type": "code",
   "execution_count": 111,
   "metadata": {},
   "outputs": [
    {
     "name": "stdout",
     "output_type": "stream",
     "text": [
      "1380.0\n",
      "[462.37159256754296, 690.6959716891945, 692.0489137065479, 977.3114945174093, 1486.3331988657865]\n",
      "[8, 5, 4, 3, 3, 6, 6, 10, 8, 7, 8, 7, 7, 8, 6, 3, 9, 7, 5, 6, 5, 5, 6, 10, 3, 5, 7, 11, 10, 3, 7, 4, 5, 4, 7, 5, 5, 7, 6, 9, 8, 6, 6, 7, 4, 4, 5, 3, 4, 5, 6, 6, 4, 9, 5, 6, 4, 3, 6, 7, 7, 4, 9, 2, 4, 5, 10, 8, 5, 4, 7, 8, 6, 11, 5, 1, 5, 10, 4, 7, 5, 9, 8, 1, 6, 5, 5, 5, 6, 7, 5, 4, 3, 7, 3, 7, 10, 4, 6, 9]\n",
      "5.95\n"
     ]
    }
   ],
   "source": [
    "limit = T * 60\n",
    "counts = []\n",
    "test = []\n",
    "\n",
    "for iter in range(100):\n",
    "    count = 0\n",
    "    timestamp = 0.0\n",
    "    timestamps = []\n",
    "    while timestamp < limit:\n",
    "        timestamp += lib_expovariate(lmbda)\n",
    "        timestamps.append(timestamp)\n",
    "        count += 1\n",
    "    test.append(timestamps)\n",
    "    counts.append(count)\n",
    "\n",
    "print(limit)\n",
    "for i in test:\n",
    "    if len(i) == 5:\n",
    "        print(i)\n",
    "        break\n",
    "\n",
    "print(counts)\n",
    "print(sum(counts) / len(counts))"
   ]
  },
  {
   "cell_type": "code",
   "execution_count": null,
   "metadata": {},
   "outputs": [],
   "source": []
  }
 ],
 "metadata": {
  "kernelspec": {
   "display_name": "Python 3",
   "language": "python",
   "name": "python3"
  },
  "language_info": {
   "codemirror_mode": {
    "name": "ipython",
    "version": 3
   },
   "file_extension": ".py",
   "mimetype": "text/x-python",
   "name": "python",
   "nbconvert_exporter": "python",
   "pygments_lexer": "ipython3",
   "version": "3.6.6"
  }
 },
 "nbformat": 4,
 "nbformat_minor": 2
}
